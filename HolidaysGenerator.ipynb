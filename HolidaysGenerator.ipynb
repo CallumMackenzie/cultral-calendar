{
 "cells": [
  {
   "cell_type": "code",
   "execution_count": 270,
   "id": "98597e26-05b3-4ab3-bc88-6470fa8db19a",
   "metadata": {},
   "outputs": [],
   "source": [
    "from datetime import date\n",
    "import holidays\n",
    "import pandas as pd\n",
    "import numpy as np\n",
    "import pycountry"
   ]
  },
  {
   "cell_type": "code",
   "execution_count": 3,
   "id": "957297ae-41ba-426b-ae58-b0e9633e82bb",
   "metadata": {
    "tags": []
   },
   "outputs": [],
   "source": [
    "holiday_dates = []\n",
    "holiday_names = []\n",
    "for holiday in holidays.AO(years=[2019, 2021]).values():\n",
    "    holiday_names.append(holiday)\n",
    "\n",
    "for holiday in holidays.AO(years=[2019, 2021]).keys():\n",
    "    holiday_dates.append(holiday)"
   ]
  },
  {
   "cell_type": "code",
   "execution_count": 4,
   "id": "89769916-d63a-43a3-a6c9-d269908959c1",
   "metadata": {},
   "outputs": [],
   "source": [
    "d = {\"Holidays\": holiday_names, \"Dates\": holiday_dates}\n",
    "holiday_df = pd.DataFrame(data=d)"
   ]
  },
  {
   "cell_type": "code",
   "execution_count": 314,
   "id": "ace9cc4a-3bca-4cc1-a28f-7dbfd19ad39d",
   "metadata": {},
   "outputs": [],
   "source": [
    "from bs4 import BeautifulSoup\n",
    "import requests\n",
    "url = \"https://pypi.org/project/holidays/\"\n",
    "page = requests.get(url)\n",
    "soup = BeautifulSoup(page.text, 'lxml')\n",
    "table = soup.find('table')\n",
    "country_df = pd.read_html(str(table))[0]\n",
    "country_df = country_df.dropna()\n",
    "country_list = list(country_df[\"Code\"])"
   ]
  },
  {
   "cell_type": "code",
   "execution_count": 322,
   "id": "8600a1df-c141-435c-8f79-18923bd81d6f",
   "metadata": {},
   "outputs": [],
   "source": [
    "hd = []\n",
    "d = {\"Holidays\": holiday_names, \"Dates\": holiday_dates}\n",
    "for country in country_list:\n",
    "    for holiday in holidays.CountryHoliday(country, years=[2020]).items():\n",
    "        hd.append({'Date' : holiday[0], \"Name\" : holiday[1], \"Country\" : country})\n",
    "\n",
    "hd_df = pd.DataFrame(data = hd)\n",
    "\n",
    "conversion_dict = {}\n",
    "for c in pycountry.countries:\n",
    "    conversion_dict[c.alpha_2] = c.name\n",
    "    \n",
    "hd_df = hd_df.replace({\"Country\": conversion_dict})\n",
    "hd_df.reset_index(drop=True, inplace=True)\n",
    "\n",
    "def date_converter(date):\n",
    "    return date.strftime(\"%Y-%m-%d\")\n",
    "    \n",
    "hd_df[\"Date\"] = hd_df[\"Date\"].map(date_converter)\n",
    "hd_df\n",
    "\n",
    "def remove_observed(holiday):\n",
    "    return (not (\"Observed\" in holiday))\n",
    "\n",
    "hd_df = hd_df[hd_df[\"Name\"].str.contains(\"Observed\") == False]\n",
    "hd_df.reset_index(drop=True, inplace=True)\n",
    "#print(hd_df)\n",
    "\n",
    "hd_df = hd_df.groupby([\"Name\", \"Date\"])[\"Country\"].apply(list).reset_index(name='countries')\n",
    "hd_df.columns = [\"name\", \"date\", \"countries\"]"
   ]
  },
  {
   "cell_type": "code",
   "execution_count": 321,
   "id": "babe038a-b156-443d-b0dd-a82ea1475161",
   "metadata": {},
   "outputs": [],
   "source": [
    "json_hd = hd_df.to_json(orient = \"records\") \n",
    "with open('/Users/bjornholst/Desktop/holiday_json', 'w') as file:\n",
    "    file.write(json_hd)\n",
    "#to_json('temp.json', orient='records', lines=True)"
   ]
  }
 ],
 "metadata": {
  "kernelspec": {
   "display_name": "Python 3 (ipykernel)",
   "language": "python",
   "name": "python3"
  },
  "language_info": {
   "codemirror_mode": {
    "name": "ipython",
    "version": 3
   },
   "file_extension": ".py",
   "mimetype": "text/x-python",
   "name": "python",
   "nbconvert_exporter": "python",
   "pygments_lexer": "ipython3",
   "version": "3.9.12"
  }
 },
 "nbformat": 4,
 "nbformat_minor": 5
}
